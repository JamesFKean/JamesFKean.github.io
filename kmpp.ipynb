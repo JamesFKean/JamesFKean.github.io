{
 "cells": [
  {
   "cell_type": "code",
   "execution_count": 1,
   "metadata": {},
   "outputs": [
    {
     "ename": "ModuleNotFoundError",
     "evalue": "No module named 'k_means_plus_plus'",
     "output_type": "error",
     "traceback": [
      "\u001b[1;31m---------------------------------------------------------------------------\u001b[0m",
      "\u001b[1;31mModuleNotFoundError\u001b[0m                       Traceback (most recent call last)",
      "\u001b[1;32m~\\AppData\\Local\\Temp\\ipykernel_19348\\2848772894.py\u001b[0m in \u001b[0;36m<module>\u001b[1;34m\u001b[0m\n\u001b[0;32m      7\u001b[0m \u001b[0msys\u001b[0m\u001b[1;33m.\u001b[0m\u001b[0mpath\u001b[0m \u001b[1;33m=\u001b[0m \u001b[1;33m[\u001b[0m\u001b[0mos\u001b[0m\u001b[1;33m.\u001b[0m\u001b[0mpath\u001b[0m\u001b[1;33m.\u001b[0m\u001b[0mabspath\u001b[0m\u001b[1;33m(\u001b[0m\u001b[1;34m\"..\"\u001b[0m\u001b[1;33m)\u001b[0m\u001b[1;33m]\u001b[0m \u001b[1;33m+\u001b[0m \u001b[0msys\u001b[0m\u001b[1;33m.\u001b[0m\u001b[0mpath\u001b[0m\u001b[1;33m\u001b[0m\u001b[1;33m\u001b[0m\u001b[0m\n\u001b[0;32m      8\u001b[0m \u001b[1;33m\u001b[0m\u001b[0m\n\u001b[1;32m----> 9\u001b[1;33m \u001b[1;32mfrom\u001b[0m \u001b[0mk_means_plus_plus\u001b[0m \u001b[1;32mimport\u001b[0m \u001b[1;33m*\u001b[0m\u001b[1;33m\u001b[0m\u001b[1;33m\u001b[0m\u001b[0m\n\u001b[0m\u001b[0;32m     10\u001b[0m \u001b[1;33m\u001b[0m\u001b[0m\n\u001b[0;32m     11\u001b[0m \u001b[0mnp\u001b[0m\u001b[1;33m.\u001b[0m\u001b[0mrandom\u001b[0m\u001b[1;33m.\u001b[0m\u001b[0mseed\u001b[0m\u001b[1;33m(\u001b[0m\u001b[1;36m1234\u001b[0m\u001b[1;33m)\u001b[0m  \u001b[1;31m# For reproducibility\u001b[0m\u001b[1;33m\u001b[0m\u001b[1;33m\u001b[0m\u001b[0m\n",
      "\u001b[1;31mModuleNotFoundError\u001b[0m: No module named 'k_means_plus_plus'"
     ]
    }
   ],
   "source": [
    "from pandas import DataFrame, Series\n",
    "import pandas as pd\n",
    "import numpy as np\n",
    "import sys\n",
    "import os\n",
    "\n",
    "sys.path = [os.path.abspath(\"..\")] + sys.path\n",
    "\n",
    "from k_means_plus_plus import *\n",
    "\n",
    "np.random.seed(1234)  # For reproducibility\n",
    "\n",
    "# We create a data set with three sets of 500 points each chosen from a normal distrubution with a standard deviation of 10.\n",
    "# The means for the distributions from which we sample are:\n",
    "# (25,45), (-30,5), and (5,-20)\n",
    "data = DataFrame({'x': 10 * np.random.randn(500) + 25, 'y':\n",
    "                 10 * np.random.randn(500) + 45}, columns=list('xy'))\n",
    "data = data.append(DataFrame(\n",
    "    {'x': 10 * np.random.randn(500) - 30, 'y': 10 * np.random.randn(500) + 5}, columns=list('xy')))\n",
    "data = data.append(DataFrame(\n",
    "    {'x': 10 * np.random.randn(500) + 5, 'y': 10 * np.random.randn(500) - 20}, columns=list('xy')))\n",
    "\n",
    "# Grab a scatterplot\n",
    "import matplotlib.pyplot as plt\n",
    "plt.scatter(data['x'], data['y'], s=5)\n",
    "plt.savefig(\"three_clusters_scatterplot.png\")\n",
    "\n",
    "# Cluster\n",
    "kmpp = KMeansPlusPlus(data, 3)\n",
    "kmpp.cluster()\n",
    "\n",
    "# Get a scatterplot that's color-coded by cluster\n",
    "colors = [\n",
    "    \"red\" if x == 0 else \"blue\" if x == 1 else \"green\" for x in kmpp.clusters]\n",
    "plt.scatter(data['x'], data['y'], s=5, c=colors)\n",
    "plt.savefig(\"three_clusters_clusters.png\")"
   ]
  }
 ],
 "metadata": {
  "kernelspec": {
   "display_name": "Python 3.9.13 ('base')",
   "language": "python",
   "name": "python3"
  },
  "language_info": {
   "codemirror_mode": {
    "name": "ipython",
    "version": 3
   },
   "file_extension": ".py",
   "mimetype": "text/x-python",
   "name": "python",
   "nbconvert_exporter": "python",
   "pygments_lexer": "ipython3",
   "version": "3.9.13 (main, Aug 25 2022, 23:51:50) [MSC v.1916 64 bit (AMD64)]"
  },
  "orig_nbformat": 4,
  "vscode": {
   "interpreter": {
    "hash": "594cbcb53b7eb24b01ad1ace3292a9583de43e996a12a214afbcf4f5a5715dd8"
   }
  }
 },
 "nbformat": 4,
 "nbformat_minor": 2
}
